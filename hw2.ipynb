{
 "cells": [
  {
   "cell_type": "markdown",
   "metadata": {},
   "source": [
    "- Problem 1"
   ]
  },
  {
   "cell_type": "code",
   "execution_count": null,
   "metadata": {},
   "outputs": [],
   "source": [
    "import numpy as np\n",
    "from numpy.linalg import inv\n",
    "\n",
    "mu = np.array([0.052, 0.029, 0.099, 0.236, 0.584])\n",
    "Sigma_upper = np.array([\n",
    "    [0.274, 0.151, 0.107, 0.165, 0.138],\n",
    "    [0,     3.763, 0.125, 0.155, 0.209],\n",
    "    [0,     0,     0.196, 0.139, 0.130],\n",
    "    [0,     0,     0,     0.434, 0.174],\n",
    "    [0,     0,     0,     0,     0.787]\n",
    "])\n",
    "\n",
    "Sigma = np.zeros((5, 5))\n",
    "Sigma[np.triu_indices_from(Sigma)] = Sigma_upper[np.triu_indices_from(Sigma_upper)]\n",
    "Sigma_transpose_upper = Sigma_upper.T\n",
    "Sigma[np.tril_indices_from(Sigma, k=-1)] = Sigma_transpose_upper[np.tril_indices_from(Sigma_transpose_upper, k=-1)]\n",
    "\n",
    "\n",
    "mu_p = 0.3\n",
    "n = len(mu)\n",
    "one_vector = np.ones(n)\n",
    "\n",
    "Sigma_inv = inv(Sigma)\n",
    "\n",
    "A = one_vector @ Sigma_inv @ one_vector\n",
    "B = one_vector @ Sigma_inv @ mu\n",
    "C = mu @ Sigma_inv @ mu\n",
    "psi = A * C - B**2\n",
    "\n",
    "lambda_1_star = (B * mu_p - C) / psi\n",
    "lambda_2_star = (B - A * mu_p) / psi\n",
    "\n",
    "w_star = -lambda_1_star * (Sigma_inv @ one_vector) - lambda_2_star * (Sigma_inv @ mu)\n",
    "\n",
    "w_star"
   ]
  }
 ],
 "metadata": {
  "language_info": {
   "name": "python"
  }
 },
 "nbformat": 4,
 "nbformat_minor": 2
}
