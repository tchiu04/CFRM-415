{
 "cells": [
  {
   "cell_type": "markdown",
   "metadata": {},
   "source": [
    "- Problem 1"
   ]
  },
  {
   "cell_type": "code",
   "execution_count": 9,
   "metadata": {},
   "outputs": [
    {
     "ename": "ModuleNotFoundError",
     "evalue": "No module named 'numpy'",
     "output_type": "error",
     "traceback": [
      "\u001b[0;31m---------------------------------------------------------------------------\u001b[0m",
      "\u001b[0;31mModuleNotFoundError\u001b[0m                       Traceback (most recent call last)",
      "Cell \u001b[0;32mIn[9], line 1\u001b[0m\n\u001b[0;32m----> 1\u001b[0m \u001b[38;5;28;01mimport\u001b[39;00m\u001b[38;5;250m \u001b[39m\u001b[38;5;21;01mnumpy\u001b[39;00m\u001b[38;5;250m \u001b[39m\u001b[38;5;28;01mas\u001b[39;00m\u001b[38;5;250m \u001b[39m\u001b[38;5;21;01mnp\u001b[39;00m\n\u001b[1;32m      2\u001b[0m \u001b[38;5;28;01mfrom\u001b[39;00m\u001b[38;5;250m \u001b[39m\u001b[38;5;21;01mnumpy\u001b[39;00m\u001b[38;5;21;01m.\u001b[39;00m\u001b[38;5;21;01mlinalg\u001b[39;00m\u001b[38;5;250m \u001b[39m\u001b[38;5;28;01mimport\u001b[39;00m inv\n\u001b[1;32m      4\u001b[0m mu \u001b[38;5;241m=\u001b[39m np\u001b[38;5;241m.\u001b[39marray([\u001b[38;5;241m0.052\u001b[39m, \u001b[38;5;241m0.029\u001b[39m, \u001b[38;5;241m0.099\u001b[39m, \u001b[38;5;241m0.236\u001b[39m, \u001b[38;5;241m0.584\u001b[39m])\n",
      "\u001b[0;31mModuleNotFoundError\u001b[0m: No module named 'numpy'"
     ]
    }
   ],
   "source": [
    "import numpy as np\n",
    "from numpy.linalg import inv\n",
    "\n",
    "mu = np.array([0.052, 0.029, 0.099, 0.236, 0.584])\n",
    "Sigma_upper = np.array([\n",
    "    [0.274, 0.151, 0.107, 0.165, 0.138],\n",
    "    [0,     3.763, 0.125, 0.155, 0.209],\n",
    "    [0,     0,     0.196, 0.139, 0.130],\n",
    "    [0,     0,     0,     0.434, 0.174],\n",
    "    [0,     0,     0,     0,     0.787]\n",
    "])\n",
    "\n",
    "Sigma = np.zeros((5, 5))\n",
    "Sigma[np.triu_indices_from(Sigma)] = Sigma_upper[np.triu_indices_from(Sigma_upper)]\n",
    "Sigma_transpose_upper = Sigma_upper.T\n",
    "Sigma[np.tril_indices_from(Sigma, k=-1)] = Sigma_transpose_upper[np.tril_indices_from(Sigma_transpose_upper, k=-1)]\n",
    "\n",
    "\n",
    "mu_p = 0.3\n",
    "n = len(mu)\n",
    "one_vector = np.ones(n)\n",
    "\n",
    "Sigma_inv = inv(Sigma)\n",
    "\n",
    "A = one_vector @ Sigma_inv @ one_vector\n",
    "B = one_vector @ Sigma_inv @ mu\n",
    "C = mu @ Sigma_inv @ mu\n",
    "psi = A * C - B**2\n",
    "\n",
    "lambda_1_star = (B * mu_p - C) / psi\n",
    "lambda_2_star = (B - A * mu_p) / psi\n",
    "\n",
    "w_star = -lambda_1_star * (Sigma_inv @ one_vector) - lambda_2_star * (Sigma_inv @ mu)\n",
    "\n",
    "w_star"
   ]
  },
  {
   "cell_type": "code",
   "execution_count": null,
   "metadata": {},
   "outputs": [],
   "source": []
  }
 ],
 "metadata": {
  "kernelspec": {
   "display_name": "Python 3",
   "language": "python",
   "name": "python3"
  },
  "language_info": {
   "codemirror_mode": {
    "name": "ipython",
    "version": 3
   },
   "file_extension": ".py",
   "mimetype": "text/x-python",
   "name": "python",
   "nbconvert_exporter": "python",
   "pygments_lexer": "ipython3",
   "version": "3.9.6"
  }
 },
 "nbformat": 4,
 "nbformat_minor": 2
}
