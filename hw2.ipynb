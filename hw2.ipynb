{
 "cells": [
  {
   "cell_type": "markdown",
   "metadata": {},
   "source": [
    "Problem 1"
   ]
  },
  {
   "cell_type": "code",
   "execution_count": 5,
   "metadata": {},
   "outputs": [
    {
     "data": {
      "text/plain": [
       "array([ 0.03688354, -0.0098681 ,  0.39652944,  0.22281027,  0.35364485])"
      ]
     },
     "execution_count": 5,
     "metadata": {},
     "output_type": "execute_result"
    }
   ],
   "source": [
    "import numpy as np\n",
    "from numpy.linalg import inv\n",
    "\n",
    "mu = np.array([0.052, 0.029, 0.099, 0.236, 0.584])\n",
    "Sigma_upper = np.array([\n",
    "    [0.274, 0.151, 0.107, 0.165, 0.138],\n",
    "    [0,     3.763, 0.125, 0.155, 0.209],\n",
    "    [0,     0,     0.196, 0.139, 0.130],\n",
    "    [0,     0,     0,     0.434, 0.174],\n",
    "    [0,     0,     0,     0,     0.787]\n",
    "])\n",
    "\n",
    "Sigma = np.zeros((5, 5))\n",
    "Sigma[np.triu_indices_from(Sigma)] = Sigma_upper[np.triu_indices_from(Sigma_upper)]\n",
    "Sigma_transpose_upper = Sigma_upper.T\n",
    "Sigma[np.tril_indices_from(Sigma, k=-1)] = Sigma_transpose_upper[np.tril_indices_from(Sigma_transpose_upper, k=-1)]\n",
    "\n",
    "mu_p = 0.3\n",
    "n = len(mu)\n",
    "one_vector_n = np.ones(n)\n",
    "\n",
    "Sigma_inv = inv(Sigma)\n",
    "\n",
    "#Define constants\n",
    "A = one_vector_n @ Sigma_inv @ one_vector_n\n",
    "B = one_vector_n @ Sigma_inv @ mu\n",
    "C = mu @ Sigma_inv @ mu\n",
    "\n",
    "psi = A * C - B**2\n",
    "\n",
    "#Scalers for optimized weights\n",
    "lambda_1_star = (B * mu_p - C) / psi\n",
    "lambda_2_star = (B - A * mu_p) / psi\n",
    "\n",
    "#Optimal Weights\n",
    "w_star = -lambda_1_star * (Sigma_inv @ one_vector_n) - lambda_2_star * (Sigma_inv @ mu)\n",
    "\n",
    "w_star"
   ]
  },
  {
   "cell_type": "markdown",
   "metadata": {},
   "source": [
    "Problem 2\n",
    "- part c"
   ]
  },
  {
   "cell_type": "code",
   "execution_count": 46,
   "metadata": {},
   "outputs": [
    {
     "name": "stdout",
     "output_type": "stream",
     "text": [
      "Weights of risk free rate asset:  [0.369 0.369 0.261]\n",
      "Risk Free Rate:  0.02738796\n"
     ]
    }
   ],
   "source": [
    "from numpy.linalg import eig\n",
    "mu = np.array([0.04, 0.02, 0.02])\n",
    "Sigma = np.array([[1, -0.5, -1/np.sqrt(2)], \n",
    "                 [-0.5, 1, -1/np.sqrt(2)], \n",
    "                 [-1/np.sqrt(2), -1/np.sqrt(2), 2]])\n",
    "\n",
    "eigenvals, eigenvecs = eig(Sigma)\n",
    "zero_evec = eigenvecs[:, np.argmin(np.abs(eigenvals))]\n",
    "\n",
    "#Normalization\n",
    "one_vector_3 = np.ones(3)\n",
    "w = zero_evec/np.sum(zero_evec)\n",
    "risk_free_rate = w @ mu\n",
    "\n",
    "print(\"Weights of risk free rate asset: \", w.round(3))\n",
    "print(\"Risk Free Rate: \", risk_free_rate.round(8))"
   ]
  },
  {
   "cell_type": "markdown",
   "metadata": {},
   "source": [
    "- part d"
   ]
  },
  {
   "cell_type": "code",
   "execution_count": 65,
   "metadata": {},
   "outputs": [
    {
     "name": "stdout",
     "output_type": "stream",
     "text": [
      "Expected portfolio return (mu_p): 0.042910\n",
      "Portfolio weights:\n",
      "  Asset 1:    1.149072\n",
      "  Asset 2:    -0.139414\n",
      "  Risk-free:  -0.009658\n"
     ]
    }
   ],
   "source": [
    "#Define constants\n",
    "var_target = 1.5\n",
    "\n",
    "Sigma_risky = np.array([[1, -0.5], [-0.5, 1]])\n",
    "mu_risky = np.array([0.04, 0.02])\n",
    "\n",
    "r0 = 0.027388\n",
    "mu_e = mu_risky - r0\n",
    "Sigma_risky_inv = inv(Sigma_risky)\n",
    "\n",
    "# Expected return mu_p\n",
    "w_tangent = (Sigma_risky_inv @ mu_e) / np.sum(Sigma_risky_inv @ mu_e)\n",
    "mu_tangent = w_tangent @ mu_risky\n",
    "sigma_tangent = np.sqrt(w_tangent.T @ Sigma_risky @ w_tangent)\n",
    "#Using Capital Market line\n",
    "sigma_p = np.sqrt(var_target)\n",
    "mu_p = r0 + ((mu_tangent - r0) / sigma_tangent) * sigma_p\n",
    "#Scale Weight to risky assets\n",
    "x = (mu_p - r0)/(mu_tangent - r0)\n",
    "w_asset1 = x*w_tangent[0]\n",
    "w_asset2 = x*w_tangent[1]\n",
    "w_risk_free = 1-x\n",
    "print(f\"Expected portfolio return (mu_p): {mu_p:.6f}\")\n",
    "print(f\"Portfolio weights:\")\n",
    "print(f\"  Asset 1:    {w_asset1:.6f}\")\n",
    "print(f\"  Asset 2:    {w_asset2:.6f}\")\n",
    "print(f\"  Risk-free:  {w_risk_free:.6f}\")"
   ]
  },
  {
   "cell_type": "markdown",
   "metadata": {},
   "source": [
    "- part e"
   ]
  },
  {
   "cell_type": "code",
   "execution_count": 66,
   "metadata": {},
   "outputs": [
    {
     "name": "stdout",
     "output_type": "stream",
     "text": [
      "Weights on Assets 1, 2, 3: [ 1.146 -0.143 -0.003]\n"
     ]
    }
   ],
   "source": [
    "w_d = np.array([1.149072, -0.139414, -0.009658])\n",
    "w_rf = np.array([0.369, 0.369, 0.261])\n",
    "\n",
    "final_weights = np.zeros(3)\n",
    "final_weights[0] = w_d[0] + w_d[2] * w_rf[0]\n",
    "final_weights[1] = w_d[1] + w_d[2] * w_rf[1]\n",
    "final_weights[2] =           w_d[2] * w_rf[2]\n",
    "\n",
    "print(\"Weights on Assets 1, 2, 3:\", final_weights.round(3))"
   ]
  },
  {
   "cell_type": "code",
   "execution_count": null,
   "metadata": {},
   "outputs": [],
   "source": []
  }
 ],
 "metadata": {
  "kernelspec": {
   "display_name": "Python 3",
   "language": "python",
   "name": "python3"
  },
  "language_info": {
   "codemirror_mode": {
    "name": "ipython",
    "version": 3
   },
   "file_extension": ".py",
   "mimetype": "text/x-python",
   "name": "python",
   "nbconvert_exporter": "python",
   "pygments_lexer": "ipython3",
   "version": "3.11.5"
  }
 },
 "nbformat": 4,
 "nbformat_minor": 2
}
