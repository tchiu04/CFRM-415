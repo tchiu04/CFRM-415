import numpy as np
from numpy.linalg import inv

mu = np.array([0.052, 0.029, 0.099, 0.236, 0.584])
Sigma_upper = np.array([
    [0.274, 0.151, 0.107, 0.165, 0.138],
    [0,     3.763, 0.125, 0.155, 0.209],
    [0,     0,     0.196, 0.139, 0.130],
    [0,     0,     0,     0.434, 0.174],
    [0,     0,     0,     0,     0.787]
])

Sigma = np.zeros((5, 5))
Sigma[np.triu_indices_from(Sigma)] = Sigma_upper[np.triu_indices_from(Sigma_upper)]
Sigma_transpose_upper = Sigma_upper.T
Sigma[np.tril_indices_from(Sigma, k=-1)] = Sigma_transpose_upper[np.tril_indices_from(Sigma_transpose_upper, k=-1)]


mu_p = 0.3
n = len(mu)
one_vector = np.ones(n)

Sigma_inv = inv(Sigma)

A = one_vector @ Sigma_inv @ one_vector
B = one_vector @ Sigma_inv @ mu
C = mu @ Sigma_inv @ mu
psi = A * C - B**2

lambda_1_star = (B * mu_p - C) / psi
lambda_2_star = (B - A * mu_p) / psi

w_star = -lambda_1_star * (Sigma_inv @ one_vector) - lambda_2_star * (Sigma_inv @ mu)

w_star
