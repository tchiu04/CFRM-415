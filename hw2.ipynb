{
 "cells": [
  {
   "cell_type": "markdown",
   "metadata": {},
   "source": [
    "- Problem 1"
   ]
  },
  {
   "cell_type": "code",
   "execution_count": 5,
   "metadata": {},
   "outputs": [
    {
     "data": {
      "text/plain": [
       "array([ 0.03688354, -0.0098681 ,  0.39652944,  0.22281027,  0.35364485])"
      ]
     },
     "execution_count": 5,
     "metadata": {},
     "output_type": "execute_result"
    }
   ],
   "source": [
    "import numpy as np\n",
    "from numpy.linalg import inv\n",
    "\n",
    "mu = np.array([0.052, 0.029, 0.099, 0.236, 0.584])\n",
    "Sigma_upper = np.array([\n",
    "    [0.274, 0.151, 0.107, 0.165, 0.138],\n",
    "    [0,     3.763, 0.125, 0.155, 0.209],\n",
    "    [0,     0,     0.196, 0.139, 0.130],\n",
    "    [0,     0,     0,     0.434, 0.174],\n",
    "    [0,     0,     0,     0,     0.787]\n",
    "])\n",
    "\n",
    "Sigma = np.zeros((5, 5))\n",
    "Sigma[np.triu_indices_from(Sigma)] = Sigma_upper[np.triu_indices_from(Sigma_upper)]\n",
    "Sigma_transpose_upper = Sigma_upper.T\n",
    "Sigma[np.tril_indices_from(Sigma, k=-1)] = Sigma_transpose_upper[np.tril_indices_from(Sigma_transpose_upper, k=-1)]\n",
    "\n",
    "mu_p = 0.3\n",
    "n = len(mu)\n",
    "one_vector_n = np.ones(n)\n",
    "\n",
    "Sigma_inv = inv(Sigma)\n",
    "\n",
    "#Define constants\n",
    "A = one_vector_n @ Sigma_inv @ one_vector_n\n",
    "B = one_vector_n @ Sigma_inv @ mu\n",
    "C = mu @ Sigma_inv @ mu\n",
    "\n",
    "psi = A * C - B**2\n",
    "\n",
    "#Scalers for optimized weights\n",
    "lambda_1_star = (B * mu_p - C) / psi\n",
    "lambda_2_star = (B - A * mu_p) / psi\n",
    "\n",
    "#Optimal Weights\n",
    "w_star = -lambda_1_star * (Sigma_inv @ one_vector_n) - lambda_2_star * (Sigma_inv @ mu)\n",
    "\n",
    "w_star"
   ]
  },
  {
   "cell_type": "code",
   "execution_count": null,
   "metadata": {},
   "outputs": [],
   "source": []
  },
  {
   "cell_type": "code",
   "execution_count": null,
   "metadata": {},
   "outputs": [],
   "source": []
  }
 ],
 "metadata": {
  "kernelspec": {
   "display_name": "Python 3",
   "language": "python",
   "name": "python3"
  },
  "language_info": {
   "codemirror_mode": {
    "name": "ipython",
    "version": 3
   },
   "file_extension": ".py",
   "mimetype": "text/x-python",
   "name": "python",
   "nbconvert_exporter": "python",
   "pygments_lexer": "ipython3",
   "version": "3.11.5"
  }
 },
 "nbformat": 4,
 "nbformat_minor": 2
}
